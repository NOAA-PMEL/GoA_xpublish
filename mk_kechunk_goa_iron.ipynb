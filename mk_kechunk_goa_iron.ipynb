{
 "cells": [
  {
   "cell_type": "code",
   "execution_count": 1,
   "id": "fd483f46-0d41-4aa8-b62e-79fec474bbb0",
   "metadata": {},
   "outputs": [],
   "source": [
    "from kerchunk.netCDF3 import NetCDF3ToZarr\n",
    "from kerchunk.combine import MultiZarrToZarr\n",
    "import fsspec\n",
    "import os\n",
    "import ujson\n",
    "from pathlib import Path\n",
    "import xarray as xr\n",
    "import numpy as np"
   ]
  },
  {
   "cell_type": "code",
   "execution_count": 2,
   "id": "2e3389be-5816-40e3-b771-b2931d07883e",
   "metadata": {},
   "outputs": [],
   "source": [
    "dir = 'ne_pacific_10km/json'"
   ]
  },
  {
   "cell_type": "code",
   "execution_count": 3,
   "id": "5d974e04-5bd9-4d85-9b86-f0a82915b1d8",
   "metadata": {},
   "outputs": [
    {
     "data": {
      "text/plain": [
       "['/home/users/rhs/notebooks/GoA/iron_2020_01.nc',\n",
       " '/home/users/rhs/notebooks/GoA/iron_2020_02.nc',\n",
       " '/home/aclim/GOA files for Roland/roms_grd_nep.nc']"
      ]
     },
     "execution_count": 3,
     "metadata": {},
     "output_type": "execute_result"
    }
   ],
   "source": [
    "fs = fsspec.filesystem('')\n",
    "flist = fs.glob('iron*.nc')\n",
    "flist\n",
    "glist = fs.glob('/home/aclim/GOA files for Roland/roms*')\n",
    "flist = flist + glist\n",
    "flist"
   ]
  },
  {
   "cell_type": "code",
   "execution_count": 4,
   "id": "6827cb59-2545-470b-a63c-d37248767672",
   "metadata": {},
   "outputs": [],
   "source": [
    "os.makedirs(dir, exist_ok=True)"
   ]
  },
  {
   "cell_type": "code",
   "execution_count": 5,
   "id": "acd4d3d3-de43-4857-838b-d993e7028e7a",
   "metadata": {},
   "outputs": [
    {
     "name": "stdout",
     "output_type": "stream",
     "text": [
      "ne_pacific_10km/json/iron_2020_01.json\n",
      "ne_pacific_10km/json/iron_2020_02.json\n",
      "ne_pacific_10km/json/roms_grd_nep.json\n"
     ]
    }
   ],
   "source": [
    "fs2 = fsspec.filesystem(\"file\")\n",
    "so = dict(default_fill_cache=False, default_cache_type='first')\n",
    "for u in flist:\n",
    "    dachunks = NetCDF3ToZarr(u)\n",
    "    parts = u.split('/') # seperate file path to create a unique name for each json \n",
    "    fstem = Path(u).stem \n",
    "    outf = f'{dir}/{fstem}.json'\n",
    "    print(outf)\n",
    "    with fs2.open(outf, 'wb') as f:\n",
    "        f.write(ujson.dumps(dachunks.translate()).encode());"
   ]
  },
  {
   "cell_type": "code",
   "execution_count": 6,
   "id": "f733ffa8-c8c5-495a-be22-0408cb504a07",
   "metadata": {},
   "outputs": [
    {
     "data": {
      "text/plain": [
       "['/home/users/rhs/notebooks/GoA/ne_pacific_10km/json/iron_2020_01.json',\n",
       " '/home/users/rhs/notebooks/GoA/ne_pacific_10km/json/iron_2020_02.json']"
      ]
     },
     "execution_count": 6,
     "metadata": {},
     "output_type": "execute_result"
    }
   ],
   "source": [
    "json_list = fs2.glob(f'{dir}/iron*.json')\n",
    "json_list"
   ]
  },
  {
   "cell_type": "code",
   "execution_count": 7,
   "id": "b37582c9-8fc5-459a-8bca-286f0aeab897",
   "metadata": {},
   "outputs": [
    {
     "name": "stdout",
     "output_type": "stream",
     "text": [
      "CPU times: user 7.6 ms, sys: 2.96 ms, total: 10.6 ms\n",
      "Wall time: 9.05 ms\n"
     ]
    }
   ],
   "source": [
    "%%time\n",
    "mzz = MultiZarrToZarr(json_list,  \n",
    "    concat_dims=['ocean_time'], #this is the dimension along which the individual files will be merged\n",
    "    identical_dims = ['lat_rho', 'lon_rho', 's_rho', 's_w'],\n",
    ")\n",
    "d = mzz.translate()\n",
    "with fs2.open(f'{dir}/combined.json', 'wb') as f:\n",
    "    f.write(ujson.dumps(d).encode())"
   ]
  }
 ],
 "metadata": {
  "kernelspec": {
   "display_name": "Python 3 (ipykernel)",
   "language": "python",
   "name": "python3"
  },
  "language_info": {
   "codemirror_mode": {
    "name": "ipython",
    "version": 3
   },
   "file_extension": ".py",
   "mimetype": "text/x-python",
   "name": "python",
   "nbconvert_exporter": "python",
   "pygments_lexer": "ipython3",
   "version": "3.12.4"
  }
 },
 "nbformat": 4,
 "nbformat_minor": 5
}
